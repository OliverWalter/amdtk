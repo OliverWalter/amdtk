{
 "cells": [
  {
   "cell_type": "markdown",
   "metadata": {},
   "source": [
    "# Some imports"
   ]
  },
  {
   "cell_type": "code",
   "execution_count": null,
   "metadata": {
    "collapsed": true
   },
   "outputs": [],
   "source": [
    "import os\n",
    "import subprocess"
   ]
  },
  {
   "cell_type": "markdown",
   "metadata": {},
   "source": [
    "# Paths and parameters"
   ]
  },
  {
   "cell_type": "code",
   "execution_count": null,
   "metadata": {
    "collapsed": true
   },
   "outputs": [],
   "source": [
    "experiment_dir = '/scratch/owb/Downloads/amdtk/recipes/wsj_mllt_fmllr_lda'\n",
    "segmentation_ctm = 'ploop_mfcc_c1_T100_sil0_s3_g2_a3_b3/bigram_ws/6_0.5_10/KnownN_1_UnkN_2/TimedSentences_Iter_150'\n",
    "wav_scp = 'data/training_unique.scp'\n",
    "split_file = 'data/wsj.split'\n",
    "sph2pipe_bin = '/scratch/owb/Downloads/amdtk/tools/sph2pipe_v2.5/sph2pipe'"
   ]
  },
  {
   "cell_type": "markdown",
   "metadata": {},
   "source": [
    "# Convert segmentation result from CTM to cluster file"
   ]
  },
  {
   "cell_type": "code",
   "execution_count": null,
   "metadata": {
    "collapsed": false
   },
   "outputs": [],
   "source": [
    "def convert_segmentation(infile, outfile, segments_file, experiment_dir):\n",
    "    convert_cmd = 'convert_ctm_to_eval2_cluster'\n",
    "    path_sh = os.path.join(experiment_dir, 'path.sh')\n",
    "    cmd = 'source {} && {}'.format(path_sh, convert_cmd)\n",
    "    if segments_file is not None:\n",
    "        cmd += ' -s {}'.format(segments_file)\n",
    "    cmd += ' {} {}'.format(infile, outfile)\n",
    "    subprocess.call([cmd], shell=True)"
   ]
  },
  {
   "cell_type": "code",
   "execution_count": null,
   "metadata": {
    "collapsed": false
   },
   "outputs": [],
   "source": [
    "infile = os.path.join(experiment_dir, segmentation_ctm)\n",
    "outfile = '{}.classes'.format(infile)\n",
    "segments_file = os.path.join(experiment_dir, split_file)\n",
    "convert_segmentation(infile, outfile, segments_file, experiment_dir)"
   ]
  },
  {
   "cell_type": "markdown",
   "metadata": {},
   "source": [
    "# Read wav file list mapping from key to filename"
   ]
  },
  {
   "cell_type": "code",
   "execution_count": null,
   "metadata": {
    "collapsed": true
   },
   "outputs": [],
   "source": [
    "def read_wav_scp(wav_file):\n",
    "    wav_list = dict()\n",
    "    with open(wav_file) as fid:\n",
    "        for entry in fid.readlines():\n",
    "            file_descriptor, key = entry.strip().split(':')\n",
    "            file = file_descriptor.split('[')[0]\n",
    "            wav_list[key] = file\n",
    "    return wav_list"
   ]
  },
  {
   "cell_type": "code",
   "execution_count": null,
   "metadata": {
    "collapsed": false
   },
   "outputs": [],
   "source": [
    "wav_list = read_wav_scp(os.path.join(experiment_dir, wav_scp))"
   ]
  },
  {
   "cell_type": "markdown",
   "metadata": {},
   "source": [
    "# Split wav files into short segments and place into corresponding directory"
   ]
  },
  {
   "cell_type": "code",
   "execution_count": null,
   "metadata": {
    "collapsed": false
   },
   "outputs": [],
   "source": [
    "out_dir = '{}_wavs'.format(outfile)\n",
    "with open(outfile) as fid:\n",
    "    for line in fid.readlines():\n",
    "        line_split = line.split()\n",
    "        if len(line_split) == 2:\n",
    "            dir_name = os.path.join(out_dir, '_'.join(line_split[0:2]))\n",
    "            os.makedirs(dir_name, exist_ok=True)\n",
    "        if len(line_split) == 3:\n",
    "            wav_file = wav_list[line_split[0]]\n",
    "            start = line_split[1]\n",
    "            end = line_split[2]\n",
    "            segment_file = os.path.join(dir_name, '_'.join(line_split) + '.wav')\n",
    "            args = [sph2pipe_bin, '-f', 'wav', '-t', start + ':' + end, wav_file, segment_file]\n",
    "            subprocess.call(args)"
   ]
  }
 ],
 "metadata": {
  "anaconda-cloud": {},
  "kernelspec": {
   "display_name": "Python [default]",
   "language": "python",
   "name": "python3"
  },
  "language_info": {
   "codemirror_mode": {
    "name": "ipython",
    "version": 3
   },
   "file_extension": ".py",
   "mimetype": "text/x-python",
   "name": "python",
   "nbconvert_exporter": "python",
   "pygments_lexer": "ipython3",
   "version": "3.5.2"
  }
 },
 "nbformat": 4,
 "nbformat_minor": 1
}

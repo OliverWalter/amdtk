{
 "cells": [
  {
   "cell_type": "markdown",
   "metadata": {},
   "source": [
    "# Some imports"
   ]
  },
  {
   "cell_type": "code",
   "execution_count": null,
   "metadata": {
    "collapsed": true
   },
   "outputs": [],
   "source": [
    "import sys\n",
    "import operator\n",
    "import shutil\n",
    "import os"
   ]
  },
  {
   "cell_type": "code",
   "execution_count": null,
   "metadata": {
    "collapsed": false
   },
   "outputs": [],
   "source": [
    "amdtk_path = '/scratch/owb/Downloads/amdtk'\n",
    "if amdtk_path not in sys.path:\n",
    "    sys.path.append(amdtk_path)"
   ]
  },
  {
   "cell_type": "code",
   "execution_count": null,
   "metadata": {
    "collapsed": true
   },
   "outputs": [],
   "source": [
    "from amdtk import readMlf"
   ]
  },
  {
   "cell_type": "markdown",
   "metadata": {},
   "source": [
    "# Paths and parameters"
   ]
  },
  {
   "cell_type": "code",
   "execution_count": null,
   "metadata": {
    "collapsed": true
   },
   "outputs": [],
   "source": [
    "mlf_path = '/scratch/owb/Downloads/amdtk/recipes/wsj/data/score.ref'\n",
    "class_file = ( '/scratch/owb/Downloads/amdtk/recipes/wsj_mllt_fmllr_lda/'\n",
    "               'ploop_mfcc_c1_T100_sil0_s3_g2_a3_b3/bigram_ws/6_0.5_10/KnownN_1_UnkN_2/TimedSentences_Iter_150.classes' )"
   ]
  },
  {
   "cell_type": "markdown",
   "metadata": {},
   "source": [
    "# Read MLF file"
   ]
  },
  {
   "cell_type": "code",
   "execution_count": null,
   "metadata": {
    "collapsed": false
   },
   "outputs": [],
   "source": [
    "mlf = readMlf(mlf_path)"
   ]
  },
  {
   "cell_type": "markdown",
   "metadata": {},
   "source": [
    "# Read classes file"
   ]
  },
  {
   "cell_type": "code",
   "execution_count": null,
   "metadata": {
    "collapsed": false
   },
   "outputs": [],
   "source": [
    "def readClasses(class_file):\n",
    "    classes = dict()\n",
    "    with open(class_file) as fid:\n",
    "        for line in fid.readlines():\n",
    "            split_line = line.split()\n",
    "            if len(split_line) == 2:\n",
    "                current_class = '_'.join(split_line)\n",
    "            if len(split_line) == 3:\n",
    "                entry = (split_line[0], round(float(split_line[1])*100), round(float(split_line[2])*100))\n",
    "                try:\n",
    "                    classes[current_class].append(entry)\n",
    "                except KeyError:\n",
    "                    classes[current_class] = [entry]\n",
    "    return classes"
   ]
  },
  {
   "cell_type": "code",
   "execution_count": null,
   "metadata": {
    "collapsed": false
   },
   "outputs": [],
   "source": [
    "classes = readClasses(class_file)"
   ]
  },
  {
   "cell_type": "markdown",
   "metadata": {},
   "source": [
    "# Find max overlap"
   ]
  },
  {
   "cell_type": "code",
   "execution_count": null,
   "metadata": {
    "collapsed": true
   },
   "outputs": [],
   "source": [
    "def add_overlapping_sequence(mlf, clusters):\n",
    "    new_clusters = dict()\n",
    "    for cluster, elements in clusters.items():\n",
    "        new_clusters[cluster] = []\n",
    "        for utterance_id, element_start, element_end in elements:\n",
    "            sequence = (unit for unit, unit_start, unit_end, unit_score, unit_aux in mlf[utterance_id] if\n",
    "                        unit_start + (unit_end - unit_start)/2 > element_start and \n",
    "                        unit_start + (unit_end - unit_start)/2 < element_end)\n",
    "            new_clusters[cluster].append((utterance_id, element_start, element_end, tuple(sequence)))\n",
    "    return new_clusters"
   ]
  },
  {
   "cell_type": "code",
   "execution_count": null,
   "metadata": {
    "collapsed": true
   },
   "outputs": [],
   "source": [
    "def get_max_overlapping_sequence(clusters):\n",
    "    new_clusters = dict()\n",
    "    to_remove = ['0', '1', '2']\n",
    "    for cluster, elements in clusters.items():\n",
    "        counter = dict()\n",
    "        for element, start, end, sequence in elements:\n",
    "            sequence = tuple(unit[:-1] if unit[-1] in to_remove else unit for unit in sequence)\n",
    "            try:\n",
    "                counter[sequence] += end - start\n",
    "            except KeyError:\n",
    "                counter[sequence] = end - start\n",
    "        new_clusters[cluster] = max(counter.items(), key=operator.itemgetter(1))\n",
    "    return new_clusters"
   ]
  },
  {
   "cell_type": "code",
   "execution_count": null,
   "metadata": {
    "collapsed": false
   },
   "outputs": [],
   "source": [
    "classes_overlap = add_overlapping_sequence(mlf, classes)"
   ]
  },
  {
   "cell_type": "code",
   "execution_count": null,
   "metadata": {
    "collapsed": false
   },
   "outputs": [],
   "source": [
    "classes_max_overlap = get_max_overlapping_sequence(classes_overlap)"
   ]
  },
  {
   "cell_type": "markdown",
   "metadata": {},
   "source": [
    "# Rename directories"
   ]
  },
  {
   "cell_type": "code",
   "execution_count": null,
   "metadata": {
    "collapsed": false
   },
   "outputs": [],
   "source": [
    "directory = ('/scratch/owb/Downloads/amdtk/recipes/wsj_mllt_fmllr_lda/'\n",
    "             'ploop_mfcc_c1_T100_sil0_s3_g2_a3_b3/bigram_ws/'\n",
    "             '6_0.5_10/KnownN_1_UnkN_2/TimedSentences_Iter_150.classes_wavs')\n",
    "for cluster_label, (sequence, sequence_length) in classes_max_overlap.items():\n",
    "    src = os.path.join(directory, cluster_label)\n",
    "    dst = os.path.join(directory, '{}_{}'.format(cluster_label, '-'.join(ll)))\n",
    "    shutil.move(src, dst)"
   ]
  },
  {
   "cell_type": "markdown",
   "metadata": {},
   "source": [
    "Cleanup via shell:\n",
    "\n",
    "    mkdir -p Single\n",
    "    for dir in Class_*\n",
    "    do\n",
    "      if [ $(ls ${dir}|wc -l) = 1 ]\n",
    "        then\n",
    "          mv $dir Single\n",
    "      fi\n",
    "    done\n",
    "    \n",
    "    mkdir -p SIL\n",
    "    for dir in Class_*\n",
    "    do\n",
    "      sequence=$(echo $dir|cut -d '_' -f 3)\n",
    "      if [ \"$sequence\" = \"\" -o \"$sequence\" = \"SIL\" -o \"$sequence\" = \"SPN\" -o \"$sequence\" = \"NSN\" ]\n",
    "      then\n",
    "        mv $dir SIL\n",
    "      fi\n",
    "    done"
   ]
  }
 ],
 "metadata": {
  "anaconda-cloud": {},
  "kernelspec": {
   "display_name": "Python [default]",
   "language": "python",
   "name": "python3"
  },
  "language_info": {
   "codemirror_mode": {
    "name": "ipython",
    "version": 3
   },
   "file_extension": ".py",
   "mimetype": "text/x-python",
   "name": "python",
   "nbconvert_exporter": "python",
   "pygments_lexer": "ipython3",
   "version": "3.5.2"
  }
 },
 "nbformat": 4,
 "nbformat_minor": 1
}

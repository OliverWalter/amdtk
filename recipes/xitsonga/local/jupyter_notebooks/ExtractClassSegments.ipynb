{
 "cells": [
  {
   "cell_type": "markdown",
   "metadata": {},
   "source": [
    "# Some imports"
   ]
  },
  {
   "cell_type": "code",
   "execution_count": null,
   "metadata": {
    "collapsed": true
   },
   "outputs": [],
   "source": [
    "import os\n",
    "import subprocess"
   ]
  },
  {
   "cell_type": "markdown",
   "metadata": {},
   "source": [
    "# Paths and parameters"
   ]
  },
  {
   "cell_type": "code",
   "execution_count": null,
   "metadata": {
    "collapsed": true
   },
   "outputs": [],
   "source": [
    "base_dir = ('/scratch/owb/Downloads/amdtk/recipes/xitsonga_mllt_fmllr_lda/'\n",
    "            'ploop_mfcc_c1_T100_sil0_s3_g2_a3_b3/bigram_ws_eval2/bigram_ws/'\n",
    "            '6_0.5_10/KnownN_1_UnkN_2/TimedSentences_Iter_150')\n",
    "wav_dir = '/scratch/owb/Database/ZeroSpeech2015/xitsonga/xitsonga_wavs'\n",
    "sox_bin = '/scratch/owb/Downloads/sox-14.4.2/bin/sox'"
   ]
  },
  {
   "cell_type": "markdown",
   "metadata": {},
   "source": [
    "# Split wav files into short segments and place into corresponding directory"
   ]
  },
  {
   "cell_type": "code",
   "execution_count": null,
   "metadata": {
    "collapsed": true
   },
   "outputs": [],
   "source": [
    "with open(os.path.join(base_dir, 'classes')) as fid:\n",
    "    for line in fid.readlines():\n",
    "        line_split = line.split()\n",
    "        if len(line_split) == 2:\n",
    "            dir_name = os.path.join(base_dir, '_'.join(line_split[0:2]))\n",
    "            os.makedirs(dir_name, exist_ok=True)\n",
    "        if len(line_split) == 3:\n",
    "            wav_file = os.path.join(wav_dir, line_split[0]) + '.wav'\n",
    "            start = line_split[1]\n",
    "            end = line_split[2]\n",
    "            segment_file = os.path.join(dir_name, '_'.join(line_split) + '.wav')\n",
    "            args = [sox_bin, wav_file, segment_file, 'trim', start, '=' + end]\n",
    "            subprocess.call(args)"
   ]
  }
 ],
 "metadata": {
  "anaconda-cloud": {},
  "kernelspec": {
   "display_name": "Python [default]",
   "language": "python",
   "name": "python3"
  },
  "language_info": {
   "codemirror_mode": {
    "name": "ipython",
    "version": 3
   },
   "file_extension": ".py",
   "mimetype": "text/x-python",
   "name": "python",
   "nbconvert_exporter": "python",
   "pygments_lexer": "ipython3",
   "version": "3.5.2"
  }
 },
 "nbformat": 4,
 "nbformat_minor": 1
}
